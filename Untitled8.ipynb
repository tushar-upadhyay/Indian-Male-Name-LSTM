{
  "nbformat": 4,
  "nbformat_minor": 0,
  "metadata": {
    "colab": {
      "name": "Untitled8.ipynb",
      "provenance": [],
      "collapsed_sections": [],
      "authorship_tag": "ABX9TyO2qNVAObdmj7w8s+bV3ZZV",
      "include_colab_link": true
    },
    "kernelspec": {
      "name": "python3",
      "display_name": "Python 3"
    },
    "accelerator": "GPU"
  },
  "cells": [
    {
      "cell_type": "markdown",
      "metadata": {
        "id": "view-in-github",
        "colab_type": "text"
      },
      "source": [
        "<a href=\"https://colab.research.google.com/github/tushar-upadhyay/Indian-Male-Name-LSTM/blob/master/Untitled8.ipynb\" target=\"_parent\"><img src=\"https://colab.research.google.com/assets/colab-badge.svg\" alt=\"Open In Colab\"/></a>"
      ]
    },
    {
      "cell_type": "code",
      "metadata": {
        "id": "_WFCL46KzDLf",
        "colab_type": "code",
        "colab": {}
      },
      "source": [
        "import numpy as np\n",
        "import requests\n",
        "import pandas as pd\n",
        "file = open('cleaned_names.txt', 'r')\n",
        "temp = ''\n",
        "names = []\n",
        "for name in str(file.read()):\n",
        "  if(name==\"\\n\"):\n",
        "    names.append(temp)\n",
        "    temp = ''\n",
        "  else:\n",
        "    temp+=name"
      ],
      "execution_count": 0,
      "outputs": []
    },
    {
      "cell_type": "code",
      "metadata": {
        "id": "_65j51UvzJlW",
        "colab_type": "code",
        "colab": {}
      },
      "source": [
        ""
      ],
      "execution_count": 0,
      "outputs": []
    },
    {
      "cell_type": "code",
      "metadata": {
        "id": "riwl7rYszTV7",
        "colab_type": "code",
        "colab": {}
      },
      "source": [
        "\n",
        "char_to_index = dict( (chr(i+96), i) for i in range(1,27))\n",
        "char_to_index[' '] = 0\n",
        "char_to_index['.'] = 27\n",
        "index_to_char = dict( (i, chr(i+96)) for i in range(1,27))\n",
        "index_to_char[0] = ' '\n",
        "index_to_char[27] = '.'\n",
        "max_char = len(max(names, key=len))\n",
        "m = len(names)\n",
        "char_dim = len(char_to_index)\n",
        "X = np.zeros((m, max_char, char_dim))\n",
        "Y = np.zeros((m, max_char, char_dim))\n",
        "for i in range(m):\n",
        "    name = list(names[i])\n",
        "    for j in range(len(name)):\n",
        "        X[i, j, char_to_index[name[j]]] = 1\n",
        "        if j < len(name)-1:\n",
        "            Y[i, j, char_to_index[name[j+1]]] = 1\n",
        "       "
      ],
      "execution_count": 0,
      "outputs": []
    },
    {
      "cell_type": "code",
      "metadata": {
        "id": "Yv3UrtfwzVuK",
        "colab_type": "code",
        "outputId": "02015061-0fbe-4540-9292-4223c5a87a50",
        "colab": {
          "base_uri": "https://localhost:8080/",
          "height": 34
        }
      },
      "source": [
        "from keras.models import Sequential\n",
        "from keras.layers import LSTM, Dense,CuDNNLSTM\n",
        "from keras.callbacks import LambdaCallback\n",
        "\n",
        "model = Sequential()\n",
        "model.add(LSTM(128, input_shape=(max_char, char_dim), return_sequences=True))\n",
        "model.add(Dense(char_dim, activation='softmax'))\n",
        "\n",
        "model.compile(loss='categorical_crossentropy', optimizer='adam')"
      ],
      "execution_count": 0,
      "outputs": [
        {
          "output_type": "stream",
          "text": [
            "Using TensorFlow backend.\n"
          ],
          "name": "stderr"
        }
      ]
    },
    {
      "cell_type": "code",
      "metadata": {
        "id": "AT4nXDKn4bnm",
        "colab_type": "code",
        "colab": {}
      },
      "source": [
        "def make_name(model):\n",
        "    name = []\n",
        "    x = np.zeros((1, max_char, char_dim))\n",
        "    end = False\n",
        "    i = 0\n",
        "    \n",
        "    while end==False:\n",
        "        probs = list(model.predict(x)[0,i])\n",
        "        probs = probs / np.sum(probs)\n",
        "        index = np.random.choice(range(char_dim), p=probs)\n",
        "        if i == max_char-2:\n",
        "            character = '.'\n",
        "            end = True\n",
        "        else:\n",
        "            character = index_to_char[index]\n",
        "        name.append(character)\n",
        "        x[0, i+1, index] = 1\n",
        "        i += 1\n",
        "        if character == '.':\n",
        "            end = True\n",
        "    \n",
        "    print(''.join(name))"
      ],
      "execution_count": 0,
      "outputs": []
    },
    {
      "cell_type": "code",
      "metadata": {
        "id": "HKRKjVBx4k9C",
        "colab_type": "code",
        "outputId": "9207d340-4762-4531-ec7d-94b158751ead",
        "colab": {
          "base_uri": "https://localhost:8080/",
          "height": 1000
        }
      },
      "source": [
        "def generate_name_loop(epoch, _):\n",
        "    if epoch % 25 == 0:\n",
        "        \n",
        "        print('Names generated after epoch %d:' % epoch)\n",
        "\n",
        "        for i in range(3):\n",
        "            make_name(model)\n",
        "        \n",
        "        print()\n",
        "      \n",
        "name_generator = LambdaCallback(on_epoch_end = generate_name_loop)\n",
        "\n",
        "model.fit(X, Y, batch_size=64, epochs=300, callbacks=[name_generator], verbose=0)"
      ],
      "execution_count": 0,
      "outputs": [
        {
          "output_type": "stream",
          "text": [
            "Names generated after epoch 0:\n",
            "rmlhddnunnde.\n",
            "wfjadm.\n",
            "zc.\n",
            "\n",
            "Names generated after epoch 25:\n",
            "rajchand.\n",
            "ummat.\n",
            "okmrotim.\n",
            "\n",
            "Names generated after epoch 50:\n",
            "isabh.\n",
            "abit.\n",
            ".\n",
            "\n",
            "Names generated after epoch 75:\n",
            "ez.\n",
            "man.\n",
            "inoy.\n",
            "\n",
            "Names generated after epoch 100:\n",
            "manni.\n",
            "isaf.\n",
            "akrudeen.\n",
            "\n",
            "Names generated after epoch 125:\n",
            "akar.\n",
            "omlal.\n",
            "afi.\n",
            "\n",
            "Names generated after epoch 150:\n",
            "ratan.\n",
            "akee.\n",
            "radhan.\n",
            "\n",
            "Names generated after epoch 175:\n",
            "bham.\n",
            "ashif.\n",
            "aka.\n",
            "\n",
            "Names generated after epoch 200:\n",
            "rehanshu.\n",
            "ati.\n",
            "onayam.\n",
            "\n",
            "Names generated after epoch 225:\n",
            "tar.\n",
            "tuler.\n",
            "mankir.\n",
            "\n",
            "Names generated after epoch 250:\n",
            "kilan.\n",
            "lili.\n",
            "omakin.\n",
            "\n",
            "Names generated after epoch 275:\n",
            "isar.\n",
            "ishan.\n",
            "ekan.\n",
            "\n"
          ],
          "name": "stdout"
        },
        {
          "output_type": "execute_result",
          "data": {
            "text/plain": [
              "<keras.callbacks.callbacks.History at 0x7fb3e60ad748>"
            ]
          },
          "metadata": {
            "tags": []
          },
          "execution_count": 8
        }
      ]
    },
    {
      "cell_type": "code",
      "metadata": {
        "id": "InPLEeyO5ML7",
        "colab_type": "code",
        "outputId": "d3018063-4d4b-4b0a-aecf-23dda5500c4a",
        "colab": {
          "base_uri": "https://localhost:8080/",
          "height": 34
        }
      },
      "source": [
        "make_name(model)"
      ],
      "execution_count": 0,
      "outputs": [
        {
          "output_type": "stream",
          "text": [
            "opinder.\n"
          ],
          "name": "stdout"
        }
      ]
    },
    {
      "cell_type": "code",
      "metadata": {
        "id": "_LS4JU7k_LCB",
        "colab_type": "code",
        "colab": {}
      },
      "source": [
        "model.save('names-predictor.h5')"
      ],
      "execution_count": 0,
      "outputs": []
    },
    {
      "cell_type": "code",
      "metadata": {
        "id": "PMZ4-u1oCepe",
        "colab_type": "code",
        "colab": {}
      },
      "source": [
        ""
      ],
      "execution_count": 0,
      "outputs": []
    },
    {
      "cell_type": "code",
      "metadata": {
        "id": "7-MKmP12DgnT",
        "colab_type": "code",
        "colab": {}
      },
      "source": [
        ""
      ],
      "execution_count": 0,
      "outputs": []
    }
  ]
}